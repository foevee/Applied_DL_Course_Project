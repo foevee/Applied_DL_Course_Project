{
  "nbformat": 4,
  "nbformat_minor": 0,
  "metadata": {
    "accelerator": "GPU",
    "colab": {
      "name": "assign5_2_image_color_GAN.ipynb",
      "provenance": [],
      "collapsed_sections": [],
      "toc_visible": true
    },
    "kernelspec": {
      "display_name": "Python 3",
      "name": "python3"
    },
    "language_info": {
      "codemirror_mode": {
        "name": "ipython",
        "version": 3
      },
      "file_extension": ".py",
      "mimetype": "text/x-python",
      "name": "python",
      "nbconvert_exporter": "python",
      "pygments_lexer": "ipython3",
      "version": "3.6.9"
    }
  },
  "cells": [
    {
      "cell_type": "markdown",
      "metadata": {
        "colab_type": "text",
        "id": "rF2x3qooyBTI"
      },
      "source": [
        "# Image Colorization Model using Generative Adversarial Network"
      ]
    },
    {
      "cell_type": "markdown",
      "metadata": {
        "colab_type": "text",
        "id": "2MbKJY38Puy9"
      },
      "source": [
        "## Definition of GAN\n",
        "[Generative Adversarial Networks](https://arxiv.org/abs/1406.2661) (GANs) are one of the most interesting ideas in computer science today. Two models are trained simultaneously by an adversarial process. A *generator* (\"the artist\") learns to create images that look real, while a *discriminator* (\"the art critic\") learns to tell real images apart from fakes.\n",
        "\n",
        "\n",
        "During training, the *generator* progressively becomes better at creating images that look real, while the *discriminator* becomes better at telling them apart. The process reaches equilibrium when the *discriminator* can no longer distinguish real images from fakes.\n",
        "\n",
        "\n",
        "In this notebook, we will use GAN process to colorize the images on the CIFAR-10 dataset. "
      ]
    },
    {
      "cell_type": "markdown",
      "metadata": {
        "colab_type": "text",
        "id": "e1_Y75QXJS6h"
      },
      "source": [
        "### Import TensorFlow and other libraries"
      ]
    },
    {
      "cell_type": "code",
      "metadata": {
        "colab_type": "code",
        "id": "WZKbyU2-AiY-",
        "colab": {}
      },
      "source": [
        "import tensorflow as tf\n",
        "tf.__version__"
      ],
      "execution_count": 0,
      "outputs": []
    },
    {
      "cell_type": "code",
      "metadata": {
        "colab_type": "code",
        "id": "YzTlj4YdCip_",
        "colab": {}
      },
      "source": [
        "# To generate GIFs\n",
        "!pip install -q imageio"
      ],
      "execution_count": 0,
      "outputs": []
    },
    {
      "cell_type": "code",
      "metadata": {
        "colab_type": "code",
        "id": "YfIk2es3hJEd",
        "colab": {}
      },
      "source": [
        "import os\n",
        "import PIL\n",
        "import time\n",
        "import pickle\n",
        "from sklearn.utils import shuffle\n",
        "\n",
        "import matplotlib.pyplot as plt\n",
        "import numpy as np\n",
        "from skimage import color, io\n",
        "from tensorflow.keras import layers\n",
        "from keras.layers import Conv2D, MaxPooling2D, Activation, BatchNormalization, \\\n",
        "     UpSampling2D, Dropout, Flatten, Dense, Input, LeakyReLU, Conv2DTranspose, \\\n",
        "     AveragePooling2D, Concatenate, Dot\n",
        "from keras.models import Model\n",
        "import tensorflow as tf\n",
        "from keras.optimizers import Adam\n",
        "\n",
        "from IPython import display\n",
        "\n",
        "import warnings\n",
        "warnings.filterwarnings('ignore')"
      ],
      "execution_count": 0,
      "outputs": []
    },
    {
      "cell_type": "markdown",
      "metadata": {
        "colab_type": "text",
        "id": "iYn4MdZnKCey"
      },
      "source": [
        "### Load and prepare the dataset\n",
        "\n",
        "We use the CIFAR-10 dataset to train the generator and the discriminator. The generator will generate the images resembling the 10-classes data. Since we are trying to colorize images, we will only use images data to split into X_train, Y_train, X_test, Y_test. The X is the 1-channel grey color data, and the Y is the 3-channel RGB data."
      ]
    },
    {
      "cell_type": "code",
      "metadata": {
        "colab_type": "code",
        "id": "a4fYMGxGhrna",
        "colab": {}
      },
      "source": [
        "#For this image colorization, we care about images but not labels\n",
        "(train_images, _), (test_images, _) = tf.keras.datasets.cifar10.load_data()\n",
        "train_images.shape, test_images.shape"
      ],
      "execution_count": 0,
      "outputs": []
    },
    {
      "cell_type": "code",
      "metadata": {
        "colab_type": "code",
        "id": "NFC2ghIdiZYE",
        "colab": {}
      },
      "source": [
        "#we will merge the 3 channel RGB colors into 1 single color\n",
        "#add the 3 channel together and rescale the image data to 0-1 to get X\n",
        "X_train = np.sum(train_images ,axis=-1)/(3*255)  \n",
        "X_test=np.sum(test_images, axis=-1)/(3*255)\n",
        "\n",
        "Y_train = train_images/255\n",
        "Y_test = test_images/255\n",
        "\n",
        "#rescale Y_train from [0,1] range to [-1,1]\n",
        "Y_train = 2*Y_train-1\n",
        "\n",
        "#re-shape\n",
        "X_train=X_train.reshape(train_images.shape[0], 32, 32, 1)\n",
        "X_test=X_test.reshape(test_images.shape[0], 32, 32, 1)\n",
        "\n",
        "print(X_train.shape, Y_train.shape, X_test.shape, Y_test.shape)"
      ],
      "execution_count": 0,
      "outputs": []
    },
    {
      "cell_type": "markdown",
      "metadata": {
        "colab_type": "text",
        "id": "THY-sZMiQ4UV"
      },
      "source": [
        "## Create the models\n",
        "\n",
        "Both the generator and discriminator are defined using the [Keras Sequential API](https://www.tensorflow.org/guide/keras#sequential_model)."
      ]
    },
    {
      "cell_type": "code",
      "metadata": {
        "id": "55bABN77PY8q",
        "colab_type": "code",
        "colab": {}
      },
      "source": [
        "x_shape = (32,32,1)\n",
        "y_shape = (32,32,3)"
      ],
      "execution_count": 0,
      "outputs": []
    },
    {
      "cell_type": "markdown",
      "metadata": {
        "colab_type": "text",
        "id": "-tEyxE-GMC48"
      },
      "source": [
        "### The Generator\n",
        "\n",
        "The generator uses `Conv2DTranspose` (upsampling) layers to produce an image from a seed (random noise). Start with a `Dense` layer that takes this seed as input, then upsample several times until you reach the desired image size of 28x28x1. Notice the `LeakyReLU` activation for each layer, except the output layer which uses tanh."
      ]
    },
    {
      "cell_type": "code",
      "metadata": {
        "colab_type": "code",
        "id": "6bpTcDqoLWjY",
        "colab": {}
      },
      "source": [
        "def generator_model(verbose=False):\n",
        "    #since we need to use the reference of each layers later\n",
        "    #so we do not use model.add\n",
        "\n",
        "    ## 1. Encoder\n",
        "    #32*32\n",
        "    gen_input = Input(shape=x_shape)\n",
        "    conv1 = Conv2D(64, (1, 1), padding='same', strides=1)(gen_input)\n",
        "    conv1 = BatchNormalization()(conv1)\n",
        "    conv1 = LeakyReLU(0.2)(conv1)\n",
        "    #print(\"1\", conv1.shape)\n",
        "\n",
        "    #32*32\n",
        "    conv2 = Conv2D(128, (2, 2), padding='same', strides=1)(conv1)\n",
        "    conv2 = BatchNormalization()(conv2)\n",
        "    conv2 = LeakyReLU(0.2)(conv2)\n",
        "    #print(\"2\", conv2.shape)\n",
        "\n",
        "    #16*16\n",
        "    conv3 = Conv2D(128, (2, 2), padding='same', strides=2)(conv2)\n",
        "    conv3 = BatchNormalization()(conv3)\n",
        "    conv3 = LeakyReLU(0.2)(conv3)\n",
        "    #print(\"3\", conv3.shape)\n",
        "\n",
        "    #16 * 16\n",
        "    conv4 = Conv2D(256, (2, 2), padding='same', strides=1)(conv3)\n",
        "    conv4 = BatchNormalization()(conv4)\n",
        "    conv4 = LeakyReLU(0.2)(conv4)\n",
        "    #print(\"4\", conv4.shape)\n",
        "\n",
        "    #8 * 8\n",
        "    conv5 = Conv2D(512, (2, 2), padding='same', strides=2)(conv4)\n",
        "    conv5 = BatchNormalization()(conv5)\n",
        "    conv5 = LeakyReLU(0.2)(conv5)\n",
        "    #print(\"5\", conv5.shape)\n",
        "    \n",
        "    \n",
        "    ## 2. Decoder\n",
        "    #start to use de-convolutoin, i.e. transposed convolution layer \n",
        "    # (we can also use upsampling to get the same result)\n",
        "    #16 * 16\n",
        "    deconv6 = Conv2DTranspose(256, (2,2), padding='same', strides=2)(conv5)\n",
        "    deconv6 = BatchNormalization()(deconv6)\n",
        "    deconv6 = LeakyReLU(0.2)(deconv6)\n",
        "    deconv6 = Dropout(0.4)(deconv6)\n",
        "    deconv6 = Concatenate(axis=3)([deconv6,conv4])  #concatenate on the last dim\n",
        "    #print(\"6\", deconv6.shape)\n",
        "\n",
        "    #16 * 16\n",
        "    deconv7 = Conv2DTranspose(256, (2,2), padding='same', strides=1)(deconv6)\n",
        "    deconv7 = BatchNormalization()(deconv7)\n",
        "    deconv7 = LeakyReLU(0.2)(deconv7)\n",
        "    deconv7 = Dropout(0.4)(deconv7)\n",
        "    deconv7 = Concatenate(axis=-1)([deconv7,conv3])  #concatenate on the last dim\n",
        "    #print(\"7\", deconv7.shape)\n",
        "\n",
        "    #32 * 32\n",
        "    deconv8 = Conv2DTranspose(128, (2,2), padding='same', strides=2)(deconv7)\n",
        "    deconv8 = BatchNormalization()(deconv8)\n",
        "    deconv8 = LeakyReLU(0.2)(deconv8)\n",
        "    deconv8 = Dropout(0.2)(deconv8)\n",
        "    deconv8 = Concatenate(axis=-1)([deconv8,conv2])  #concatenate on the last dim\n",
        "    #print(\"8\", deconv8.shape)\n",
        "\n",
        "    #32 * 32\n",
        "    deconv9 = Conv2DTranspose(64, (2,2), padding='same', strides=1)(deconv8)\n",
        "    deconv9 = BatchNormalization()(deconv9)\n",
        "    deconv9 = LeakyReLU(0.2)(deconv9)\n",
        "    deconv9 = Dropout(0.4)(deconv9)\n",
        "    deconv9 = Concatenate(axis=-1)([deconv9,conv1])  #concatenate on the last dim\n",
        "    #print(\"9\", deconv9.shape)\n",
        "\n",
        "    #last one convolution layer\n",
        "    #output is for 3 colors (not classiy 10 labels)\n",
        "    conv10 = Conv2D(3, (1, 1), padding='same', strides=1, activation='tanh')(deconv9)  \n",
        "    model = Model(inputs = gen_input, outputs=conv10)\n",
        "\n",
        "    if(verbose):\n",
        "        print(model.summary())\n",
        "    return model   \n",
        "    "
      ],
      "execution_count": 0,
      "outputs": []
    },
    {
      "cell_type": "markdown",
      "metadata": {
        "colab_type": "text",
        "id": "D0IKnaCtg6WE"
      },
      "source": [
        "### The Discriminator\n",
        "\n",
        "The discriminator is a CNN-based image classifier with two concatenated variables as input."
      ]
    },
    {
      "cell_type": "code",
      "metadata": {
        "colab_type": "code",
        "id": "dw2tPLmk2pEP",
        "colab": {}
      },
      "source": [
        "def discriminator_model(verbose=False):\n",
        "\n",
        "    #since we need to concatenate, still use functional API\n",
        "    X = Input(shape = x_shape)\n",
        "    Y = Input(shape = y_shape)\n",
        "    dis_input = Concatenate(axis=-1)([X,Y])\n",
        "    \n",
        "    conv1 = Conv2D(32, (2,2), strides = 2)(dis_input)\n",
        "    conv1 = BatchNormalization()(conv1)\n",
        "    conv1 = LeakyReLU(0.2)(conv1)\n",
        "    \n",
        "    conv2 = Conv2D(64, (2,2), strides = 2)(conv1)  \n",
        "    conv2 = BatchNormalization()(conv2)\n",
        "    conv2 = LeakyReLU(0.2)(conv2)\n",
        "  \n",
        "    conv3 = Conv2D(128, (2,2), strides = 2)(conv2)\n",
        "    conv3 = BatchNormalization()(conv3)\n",
        "    conv3 = LeakyReLU(0.2)(conv3)\n",
        "  \n",
        "    conv4 = Conv2D(128, (2,2), strides = 1)(conv3)\n",
        "    conv4 = BatchNormalization()(conv4)\n",
        "    conv4 = LeakyReLU(0.2)(conv4)\n",
        "  \n",
        "    dense5 = Flatten()(conv4)\n",
        "    dense5 = Dense(128)(dense5)\n",
        "    dense5 = Dense(1,activation='sigmoid')(dense5)\n",
        "  \n",
        "    model = Model([X,Y], dense5)\n",
        "    if verbose:\n",
        "        print(model.summary())\n",
        "\n",
        "    return model"
      ],
      "execution_count": 0,
      "outputs": []
    },
    {
      "cell_type": "markdown",
      "metadata": {
        "colab_type": "text",
        "id": "QhPneagzCaQv"
      },
      "source": [
        "### Define the combined model\n",
        "\n",
        "Use the (as yet untrained) generator and discriminator to define the combined model. The model will be trained to generate images which are finally like the real images. We use cosine distance to measure the loss and evaluate."
      ]
    },
    {
      "cell_type": "code",
      "metadata": {
        "colab_type": "code",
        "id": "gDkA05NE6QMs",
        "colab": {}
      },
      "source": [
        "X = Input(shape = x_shape)\n",
        "Y = Input(shape = y_shape)\n",
        "\n",
        "generator = generator_model()\n",
        "discriminator = discriminator_model()\n",
        "X_gen = generator(X)\n",
        "Y_disc = discriminator([X, X_gen])\n",
        "\n",
        "X_gen_flat = Flatten()(X_gen) #generated images\n",
        "Y_flat = Flatten()(Y)  #real images\n",
        "\n",
        "cosine_distance = Dot(axes=1, normalize=True)([X_gen_flat, Y_flat])\n",
        "combined = Model([X,Y], [Y_disc, cosine_distance])"
      ],
      "execution_count": 0,
      "outputs": []
    },
    {
      "cell_type": "code",
      "metadata": {
        "id": "oW3k7Fpi_pDz",
        "colab_type": "code",
        "colab": {
          "base_uri": "https://localhost:8080/",
          "height": 433
        },
        "outputId": "8b4c9b96-c6c0-4875-e29d-56cb4d78d4dc"
      },
      "source": [
        "combined.summary()"
      ],
      "execution_count": 11,
      "outputs": [
        {
          "output_type": "stream",
          "text": [
            "Model: \"model_3\"\n",
            "__________________________________________________________________________________________________\n",
            "Layer (type)                    Output Shape         Param #     Connected to                     \n",
            "==================================================================================================\n",
            "input_1 (InputLayer)            (None, 32, 32, 1)    0                                            \n",
            "__________________________________________________________________________________________________\n",
            "model_1 (Model)                 (None, 32, 32, 3)    2073795     input_1[0][0]                    \n",
            "__________________________________________________________________________________________________\n",
            "input_2 (InputLayer)            (None, 32, 32, 3)    0                                            \n",
            "__________________________________________________________________________________________________\n",
            "flatten_2 (Flatten)             (None, 3072)         0           model_1[1][0]                    \n",
            "__________________________________________________________________________________________________\n",
            "flatten_3 (Flatten)             (None, 3072)         0           input_2[0][0]                    \n",
            "__________________________________________________________________________________________________\n",
            "model_2 (Model)                 (None, 1)            256481      input_1[0][0]                    \n",
            "                                                                 model_1[1][0]                    \n",
            "__________________________________________________________________________________________________\n",
            "dot_1 (Dot)                     (None, 1)            0           flatten_2[0][0]                  \n",
            "                                                                 flatten_3[0][0]                  \n",
            "==================================================================================================\n",
            "Total params: 2,330,276\n",
            "Trainable params: 2,325,988\n",
            "Non-trainable params: 4,288\n",
            "__________________________________________________________________________________________________\n"
          ],
          "name": "stdout"
        }
      ]
    },
    {
      "cell_type": "markdown",
      "metadata": {
        "colab_type": "text",
        "id": "0FMYgY_mPfTi"
      },
      "source": [
        "## Define the loss and optimizers\n",
        "\n",
        "Define loss functions and optimizers for both models. The discriminator and the generator optimizers are different since we will train two networks separately.\n"
      ]
    },
    {
      "cell_type": "code",
      "metadata": {
        "id": "mF6UL6X4G6Tg",
        "colab_type": "code",
        "colab": {}
      },
      "source": [
        "discriminator.compile(loss=\"binary_crossentropy\", optimizer = Adam(lr = 0.0001))\n",
        "combined.compile(loss = \"binary_crossentropy\", optimizer = Adam(lr = 0.0001))  "
      ],
      "execution_count": 0,
      "outputs": []
    },
    {
      "cell_type": "markdown",
      "metadata": {
        "colab_type": "text",
        "id": "Rw1fkAczTQYh"
      },
      "source": [
        "## Define the training loop\n"
      ]
    },
    {
      "cell_type": "code",
      "metadata": {
        "colab_type": "code",
        "id": "NS2GWywBbAWo",
        "colab": {}
      },
      "source": [
        "epochs = 20\n",
        "train_size = 50000\n",
        "batch_size = 256\n",
        "\n",
        "genLoss=[]\n",
        "discLoss=[]\n",
        "\n",
        "batches = int(train_size / batch_size)\n",
        "disc_updates = 2  #each time discrimator model has 2 inputs, need to train twice\n",
        "gen_updates = 1\n",
        "\n",
        "#zero and one used for cross entropy loss calculation\n",
        "zeros=np.zeros((batch_size,1))\n",
        "ones=np.ones((batch_size,1))*0.9\n",
        "disc_loss_factor = batches*2*disc_updates\n",
        "gen_loss_factor = batches*gen_updates\n"
      ],
      "execution_count": 0,
      "outputs": []
    },
    {
      "cell_type": "markdown",
      "metadata": {
        "colab_type": "text",
        "id": "jylSonrqSWfi"
      },
      "source": [
        "The training loop begins with generator receiving a random seed as input. That seed is used to produce an image. The discriminator is then used to classify real images (drawn from the training set) and fakes images (produced by the generator). The loss is calculated for each of these models, and the gradients are used to update the generator and discriminator."
      ]
    },
    {
      "cell_type": "code",
      "metadata": {
        "id": "u3GBQALEIYGF",
        "colab_type": "code",
        "colab": {}
      },
      "source": [
        "train_size = 50000\n",
        "test_size = 10000\n",
        "batch_size = 256"
      ],
      "execution_count": 0,
      "outputs": []
    },
    {
      "cell_type": "code",
      "metadata": {
        "colab_type": "code",
        "id": "2M7LmLtGEMQJ",
        "colab": {}
      },
      "source": [
        "def train(x_data, y_data, epochs):\n",
        "    for epoch in range(epochs):\n",
        "        start = time.time()\n",
        "        print(\"#################\")\n",
        "        print(\"For Epoch:\"+str(epoch))\n",
        "        gen_loss = 0\n",
        "        disc_loss = 0\n",
        "\n",
        "        print(\"Training Discriminator\")\n",
        "        index = shuffle(range(train_size))\n",
        "\n",
        "        discriminator.compile(loss=\"binary_crossentropy\", optimizer = Adam(lr = 0.0001))\n",
        "        discriminator.trainable = True\n",
        "        for i in range(disc_updates):  \n",
        "            for b in range(batches):\n",
        "                train_range = index[b*batch_size:(b+1)*batch_size]\n",
        "                x_batch = x_data[train_range]\n",
        "                y_batch = y_data[train_range]\n",
        "                pred_batch = generator.predict(x_batch)\n",
        "\n",
        "                #discriminator has two loss\n",
        "                disc_loss += discriminator.train_on_batch([x_batch,y_batch],ones)\n",
        "                disc_loss += discriminator.train_on_batch([x_batch,pred_batch],zeros)\n",
        "      \n",
        "        print(\"Training Generator\")\n",
        "        discriminator.trainable = False\n",
        "        combined.compile(loss = \"binary_crossentropy\", optimizer = Adam(lr = 0.0001))  \n",
        "        discriminator.compile(loss = \"binary_crossentropy\",optimizer = Adam(lr = 0.0001))\n",
        "        for  i in range(gen_updates):\n",
        "            for b in range(batches):\n",
        "                train_range = index[b*batch_size:(b+1)*batch_size]\n",
        "                x_batch = x_data[train_range]\n",
        "                y_batch = y_data[train_range]\n",
        "      \n",
        "                loss, _ , _ = combined.train_on_batch([x_batch,y_batch],[ones,ones])\n",
        "                gen_loss += loss\n",
        "      \n",
        "        gen_loss /= gen_loss_factor\n",
        "        disc_loss /= disc_loss_factor\n",
        "        genLoss.append(gen_loss)\n",
        "        discLoss.append(disc_loss)\n",
        "        print(f\"Discriminator Loss: {disc_loss}\")\n",
        "        print(f\"Generator loss: {gen_loss}\")\n",
        "        \n",
        "        generate_and_save_images(generator, epoch, x_data, y_data)\n",
        "        #\n",
        "        #x_img = x_data[rand_idx]\n",
        "        #pred_img = (generator.predict(x_img)+1)/2 #return [-1,1] back to [0,1], generated images\n",
        "        #real_img = (y_data[rand_idx]+1)/2  \n",
        "        #fig = plot(x_img, pred_img, real_img, 3)\n",
        "        #plt.show()\n",
        "        #plt.close(fig)\n",
        "    \n",
        "    return genLoss, discLoss"
      ],
      "execution_count": 0,
      "outputs": []
    },
    {
      "cell_type": "markdown",
      "metadata": {
        "colab_type": "text",
        "id": "2aFF7Hk3XdeW"
      },
      "source": [
        "**Generate and save images**\n"
      ]
    },
    {
      "cell_type": "code",
      "metadata": {
        "colab_type": "code",
        "id": "RmdVsmvhPxyy",
        "colab": {}
      },
      "source": [
        "def generate_and_save_images(model, epoch, x_data, y_data, is_train=True):\n",
        "    # Notice `training` is set to False.\n",
        "    # This is so all layers run in inference mode (batchnorm).\n",
        "    if is_train:\n",
        "        rand_idx = np.random.randint(train_size, size=3) #pick 3 images\n",
        "    else:\n",
        "        rand_idx = np.random.randint(test_size, size=3) #pick 3 images\n",
        "    x_images = x_data[rand_idx]\n",
        "    predictions = model.predict(x_images)\n",
        "    pred_images = (predictions+1)/2\n",
        "    real_images = (y_data[rand_idx]+1)/2\n",
        "    \n",
        "    samples = [x_images, pred_images, real_images]\n",
        "    fig = plt.figure(figsize=(6,6))\n",
        "    k=0\n",
        "    for i in range(3):\n",
        "        for j in range(3):\n",
        "            k += 1\n",
        "            ax = plt.subplot(3,3,k)\n",
        "            plt.axis('off')\n",
        "            ax.set_aspect('equal')\n",
        "            if samples[i][j].shape == (32,32,1):\n",
        "                plt.imshow(samples[i][j].reshape(32, 32))\n",
        "            else:\n",
        "                plt.imshow(samples[i][j].reshape(32,32,3))\n",
        "\n",
        "    plt.savefig('image_at_epoch_{:04d}.png'.format(epoch))\n",
        "    plt.show()"
      ],
      "execution_count": 0,
      "outputs": []
    },
    {
      "cell_type": "markdown",
      "metadata": {
        "colab_type": "text",
        "id": "dZrd4CdjR-Fp"
      },
      "source": [
        "## Train the model\n",
        "Call the `train()` method defined above to train the generator and discriminator simultaneously. Note, training GANs can be tricky. It's important that the generator and discriminator do not overpower each other (e.g., that they train at a similar rate).\n",
        "\n",
        "At the beginning of the training, the generated images look like very vague and fuzzy. As training progresses, the generated digits will look increasingly real. After about 50 epochs, they resemble CIFAR-10 images. This may take about two minute / epoch with the default settings on Colab."
      ]
    },
    {
      "cell_type": "code",
      "metadata": {
        "colab_type": "code",
        "id": "Ly3UN0SLLY2l",
        "colab": {}
      },
      "source": [
        "genLoss, discLoss = train(X_train, Y_train, epochs)"
      ],
      "execution_count": 0,
      "outputs": []
    },
    {
      "cell_type": "code",
      "metadata": {
        "id": "BnKOBxFBXnoH",
        "colab_type": "code",
        "colab": {}
      },
      "source": [
        ""
      ],
      "execution_count": 0,
      "outputs": []
    },
    {
      "cell_type": "markdown",
      "metadata": {
        "id": "6nJHiHiZanIR",
        "colab_type": "text"
      },
      "source": [
        "In each picture, there are 3 random images being picked to plot in each column. While for a fixed column (image), three rows from the top to the botton are the `single-color images (1-channel), generated images, and the real_images`. We can see than with epochs growing, the generated images are looked increasingly real and clear and much more like the real images."
      ]
    },
    {
      "cell_type": "markdown",
      "metadata": {
        "id": "0mxh4kATPkXW",
        "colab_type": "text"
      },
      "source": [
        "## Evaluate the model\n",
        "We plot the history of the model training loss and further see the model performance on the see data to evaluate."
      ]
    },
    {
      "cell_type": "code",
      "metadata": {
        "id": "WgN2U_C6PeS2",
        "colab_type": "code",
        "colab": {
          "base_uri": "https://localhost:8080/",
          "height": 281
        },
        "outputId": "170c96b1-eef7-4836-ef70-0f5de1dfc39e"
      },
      "source": [
        "#Plot the model loss history to evaluate\n",
        "plt.plot(genLoss, c='r', label=\"Generator Loss\")\n",
        "plt.plot(discLoss, c='b', label=\"Discriminator Loss\")\n",
        "plt.xlabel(\"Iterations\")\n",
        "plt.ylabel(\"Loss\")\n",
        "plt.legend()\n",
        "plt.show()"
      ],
      "execution_count": 25,
      "outputs": [
        {
          "output_type": "display_data",
          "data": {
            "image/png": "[encoded data removed]",
            "text/plain": [
              "<Figure size 432x288 with 1 Axes>"
            ]
          },
          "metadata": {
            "tags": [],
            "needs_background": "light"
          }
        }
      ]
    },
    {
      "cell_type": "markdown",
      "metadata": {
        "id": "fxvoGPDNDOg-",
        "colab_type": "text"
      },
      "source": [
        "We can see both generator loss and the discriminator loss decrease with time, which means that the model performs well on the training set. Furthermore, we can evaluate the model on the test set by picking some random test data and plot the predictions from the model."
      ]
    },
    {
      "cell_type": "code",
      "metadata": {
        "id": "BigPJcgCbs3v",
        "colab_type": "code",
        "colab": {}
      },
      "source": [
        "# generate_and_save_images(generator, 0, X_test, Y_test, False)"
      ],
      "execution_count": 0,
      "outputs": []
    },
    {
      "cell_type": "code",
      "metadata": {
        "id": "uH_6eVNQb0Nf",
        "colab_type": "code",
        "colab": {}
      },
      "source": [
        ""
      ],
      "execution_count": 0,
      "outputs": []
    }
  ]
}